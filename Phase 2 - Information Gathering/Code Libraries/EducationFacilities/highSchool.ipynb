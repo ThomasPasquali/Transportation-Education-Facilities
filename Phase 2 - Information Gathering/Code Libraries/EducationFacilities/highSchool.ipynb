{
 "cells": [
  {
   "cell_type": "markdown",
   "metadata": {},
   "source": [
    "Urls of high-schools "
   ]
  },
  {
   "cell_type": "code",
   "execution_count": null,
   "metadata": {},
   "outputs": [],
   "source": [
    "import pandas as pd\n",
    "\n",
    "highschool = {\n",
    "    'url': ['https://www.tuttitalia.it/trentino-alto-adige/19-scuole/liceo-artistico/', \n",
    "            'https://www.tuttitalia.it/trentino-alto-adige/19-scuole/liceo-scientifico/', \n",
    "            'https://www.tuttitalia.it/trentino-alto-adige/19-scuole/liceo-scienze-umane/',\n",
    "            'https://www.tuttitalia.it/trentino-alto-adige/19-scuole/liceo-classico/',\n",
    "            'https://www.tuttitalia.it/trentino-alto-adige/19-scuole/liceo-linguistico/',\n",
    "            'https://www.tuttitalia.it/trentino-alto-adige/19-scuole/istituto-tecnico-tecnologico/',\n",
    "            'https://www.tuttitalia.it/trentino-alto-adige/19-scuole/istituto-professionale-servizi/',\n",
    "            'https://www.tuttitalia.it/trentino-alto-adige/19-scuole/istituto-professionale-industria-artigianato/',\n",
    "            ],\n",
    "    }\n",
    "\n",
    "hs_df_urls = pd.DataFrame(highschool)\n",
    "\n",
    "print(hs_df_urls)"
   ]
  },
  {
   "cell_type": "markdown",
   "metadata": {},
   "source": [
    "Extracting all the information about all the middle schools reading the df_urls"
   ]
  },
  {
   "cell_type": "code",
   "execution_count": null,
   "metadata": {},
   "outputs": [],
   "source": [
    "import bs4, requests\n",
    "import pandas as pd\n",
    "import re \n",
    "\n",
    "file_path = '../../Raw data/edu/high_school.csv'\n",
    "hs_school_infos = []\n",
    "\n",
    "for hs_index, ms_row in hs_df_urls.iterrows():\n",
    "    hs_url = ms_row['url']\n",
    "    hs_typeEdu = 'highschool'  \n",
    "\n",
    "    hs_response = requests.get(hs_url) \n",
    "    hs_response.raise_for_status()\n",
    "    hs_soup = bs4.BeautifulSoup(hs_response.text, 'html.parser') \n",
    "\n",
    "    hs_div_type = hs_soup.find('div', class_='aj')\n",
    "    hs_divs_if = hs_div_type.find_all('div', class_='if')\n",
    "\n",
    "    for hs_div_if in hs_divs_if:\n",
    "        hs_id = hs_div_if.get('id')\n",
    "        hs_div_kk = hs_div_if.find('div', class_='kk') \n",
    "        \n",
    "        if hs_div_kk:\n",
    "            hs_name = hs_div_kk.find('h3').text\n",
    "            \n",
    "            hs_text_elements = hs_div_kk.find_all(string=True)\n",
    "            hs_address = ' '.join(hs_text_elements).strip()\n",
    "            hs_address_match = re.search(r'(Via|Corso|Piazza|Strada|Loc).*?TN', hs_address)\n",
    "            if hs_address_match:\n",
    "                hs_address = hs_address_match.group()\n",
    "    \n",
    "            school_info = [hs_id, hs_typeEdu, hs_name, hs_address]\n",
    "            hs_school_infos.append(school_info)\n",
    "\n",
    "hs_df = pd.DataFrame(hs_school_infos, columns=['id', 'type', 'name', 'address'])\n",
    "hs_df = hs_df[hs_df['address'].str.contains('BZ') == False]\n",
    "pd.set_option('display.max_colwidth', None)\n",
    "pd.set_option('expand_frame_repr', False)\n",
    "hs_df.to_csv(file_path, index=False)\n",
    "#print(ms_df)  "
   ]
  },
  {
   "cell_type": "code",
   "execution_count": null,
   "metadata": {},
   "outputs": [],
   "source": []
  }
 ],
 "metadata": {
  "kernelspec": {
   "display_name": "Python 3",
   "language": "python",
   "name": "python3"
  },
  "language_info": {
   "codemirror_mode": {
    "name": "ipython",
    "version": 3
   },
   "file_extension": ".py",
   "mimetype": "text/x-python",
   "name": "python",
   "nbconvert_exporter": "python",
   "pygments_lexer": "ipython3",
   "version": "3.11.4"
  }
 },
 "nbformat": 4,
 "nbformat_minor": 2
}
