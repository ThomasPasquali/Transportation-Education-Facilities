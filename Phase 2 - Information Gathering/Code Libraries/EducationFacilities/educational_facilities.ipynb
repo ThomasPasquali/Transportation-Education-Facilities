{
 "cells": [
  {
   "cell_type": "markdown",
   "metadata": {},
   "source": [
    "Merge of middle-school, high-school, university "
   ]
  },
  {
   "cell_type": "code",
   "execution_count": 5,
   "metadata": {},
   "outputs": [],
   "source": [
    "import pandas as pd \n",
    "\n",
    "ms = pd.read_csv('../../Raw data/edu/middle_school.csv')\n",
    "hs = pd.read_csv('../../Raw data/edu/high_school.csv')\n",
    "uni = pd.read_csv('../../Raw data/edu/university.csv')\n",
    "ef_path = '../../Raw data/edu/educational_facilities.csv'\n",
    "\n",
    "ef = pd.concat([ms, hs, uni], ignore_index=True)\n",
    "ef.to_csv(ef_path, index=False)"
   ]
  }
 ],
 "metadata": {
  "kernelspec": {
   "display_name": "Python 3",
   "language": "python",
   "name": "python3"
  },
  "language_info": {
   "codemirror_mode": {
    "name": "ipython",
    "version": 3
   },
   "file_extension": ".py",
   "mimetype": "text/x-python",
   "name": "python",
   "nbconvert_exporter": "python",
   "pygments_lexer": "ipython3",
   "version": "3.10.12"
  }
 },
 "nbformat": 4,
 "nbformat_minor": 2
}
