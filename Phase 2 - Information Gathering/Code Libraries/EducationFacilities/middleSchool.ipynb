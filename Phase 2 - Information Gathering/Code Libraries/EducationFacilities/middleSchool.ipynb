{
 "cells": [
  {
   "cell_type": "markdown",
   "metadata": {},
   "source": [
    "Code for scraping all the urls of middle-school in the auonomous province of Trento"
   ]
  },
  {
   "cell_type": "code",
   "execution_count": null,
   "metadata": {},
   "outputs": [],
   "source": [
    "import bs4, requests\n",
    "import pandas as pd\n",
    "\n",
    "ms_typeEdu = 'middleschool' \n",
    "ms_url = 'https://www.tuttitalia.it/trentino-alto-adige/provincia-autonoma-di-trento/50-scuole/scuola-secondaria-di-primo-grado/'\n",
    "ms_pre_url = 'https://www.tuttitalia.it' \n",
    "\n",
    "ms_response = requests.get(ms_url) \n",
    "ms_response.raise_for_status()\n",
    "ms_soup = bs4.BeautifulSoup(ms_response.text, 'html.parser') \n",
    "\n",
    "ms_municipalities_urls = [] \n",
    "\n",
    "ms_ct_tables = ms_soup.find_all('table', class_='ct')\n",
    "\n",
    "for ms_ct_table in ms_ct_tables:\n",
    "    ms_vm_tables = ms_ct_table.find_all('table', class_='vm')\n",
    "\n",
    "    for ms_vm_table in ms_vm_tables:\n",
    "        ms_zp_tds = ms_vm_table.find_all('td', class_='zp')\n",
    "\n",
    "        for ms_zp_td in ms_zp_tds: \n",
    "            ms_a_muns = ms_zp_td.find('a') \n",
    "            ms_href = ms_a_muns.get('href')\n",
    "            ms_mun_url = ms_pre_url + ms_href \n",
    "            \n",
    "            ms_municipalities_urls.append(ms_mun_url)\n",
    "\n",
    "ms_df_urls = pd.DataFrame({'url': ms_municipalities_urls, 'typeEdu': ms_typeEdu})\n",
    "print(ms_df_urls) \n"
   ]
  },
  {
   "cell_type": "markdown",
   "metadata": {},
   "source": [
    "Extracting all the information about all the middle schools reading the df_urls"
   ]
  },
  {
   "cell_type": "code",
   "execution_count": null,
   "metadata": {},
   "outputs": [],
   "source": [
    "import bs4, requests\n",
    "import pandas as pd\n",
    "import re \n",
    "\n",
    "file_path = '../../Raw data/edu/middle_school.csv'\n",
    "ms_school_infos = []\n",
    "\n",
    "for ms_index, ms_row in ms_df_urls.iterrows():\n",
    "    ms_url = ms_row['url']\n",
    "    ms_typeEdu = ms_row['typeEdu'] \n",
    "\n",
    "    ms_response = requests.get(ms_url) \n",
    "    ms_response.raise_for_status()\n",
    "    ms_soup = bs4.BeautifulSoup(ms_response.text, 'html.parser') \n",
    "\n",
    "    ms_div_type = ms_soup.find('div', class_='aj')\n",
    "    ms_divs_if = ms_div_type.find_all('div', class_='if')\n",
    "\n",
    "    for ms_div_if in ms_divs_if:\n",
    "        ms_id = ms_div_if.get('id')\n",
    "        ms_div_kk = ms_div_if.find('div', class_='kk') \n",
    "        \n",
    "        if ms_div_kk:\n",
    "            ms_name = ms_div_kk.find('h3').text\n",
    "            \n",
    "            ms_text_elements = ms_div_kk.find_all(string=True)\n",
    "            ms_address = ' '.join(ms_text_elements).strip()\n",
    "            ms_address_match = re.search(r'(Via|Corso|Piazza|Strada|Loc).*?TN', ms_address)\n",
    "            if ms_address_match:\n",
    "                ms_address = ms_address_match.group()\n",
    "    \n",
    "            school_info = [ms_id, ms_typeEdu, ms_name, ms_address]\n",
    "            ms_school_infos.append(school_info)\n",
    "\n",
    "ms_df = pd.DataFrame(ms_school_infos, columns=['id', 'type', 'name', 'address'])\n",
    "pd.set_option('display.max_colwidth', None)\n",
    "pd.set_option('expand_frame_repr', False)\n",
    "ms_df.to_csv(file_path, index=False)\n",
    "#print(ms_df)  "
   ]
  }
 ],
 "metadata": {
  "kernelspec": {
   "display_name": "Python 3",
   "language": "python",
   "name": "python3"
  },
  "language_info": {
   "codemirror_mode": {
    "name": "ipython",
    "version": 3
   },
   "file_extension": ".py",
   "mimetype": "text/x-python",
   "name": "python",
   "nbconvert_exporter": "python",
   "pygments_lexer": "ipython3",
   "version": "3.11.4"
  }
 },
 "nbformat": 4,
 "nbformat_minor": 2
}
